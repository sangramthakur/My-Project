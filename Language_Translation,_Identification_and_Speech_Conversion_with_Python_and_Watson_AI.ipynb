{
  "nbformat": 4,
  "nbformat_minor": 0,
  "metadata": {
    "colab": {
      "name": "Language Translation, Identification and Speech Conversion with Python and Watson AI.ipynb",
      "provenance": [],
      "collapsed_sections": []
    },
    "kernelspec": {
      "display_name": "Python 3",
      "name": "python3"
    },
    "language_info": {
      "name": "python"
    }
  },
  "cells": [
    {
      "cell_type": "code",
      "metadata": {
        "id": "Ugc5KQQuAj9O"
      },
      "source": [
        "## pip install ibm_watson"
      ],
      "execution_count": 99,
      "outputs": []
    },
    {
      "cell_type": "markdown",
      "metadata": {
        "id": "ZvVHJDtjAsM8"
      },
      "source": [
        "## IBM Watson Authantication "
      ]
    },
    {
      "cell_type": "code",
      "metadata": {
        "id": "mP_ZBNzAAobE"
      },
      "source": [
        "apikey = 'srBYOVMXjgH5JgFophkgXQPWldi3iGrwXs-Gj5Sd6TmM'\n",
        "url = 'https://api.eu-gb.language-translator.watson.cloud.ibm.com/instances/f5fbfe54-851f-45be-89cd-b2949f6b1a34'"
      ],
      "execution_count": null,
      "outputs": []
    },
    {
      "cell_type": "code",
      "metadata": {
        "id": "c4W-98esCq5v"
      },
      "source": [
        "# import deps\n",
        "from ibm_watson import LanguageTranslatorV3\n",
        "from ibm_cloud_sdk_core.authenticators import IAMAuthenticator"
      ],
      "execution_count": null,
      "outputs": []
    },
    {
      "cell_type": "code",
      "metadata": {
        "id": "3nVGpz7iCrq-"
      },
      "source": [
        "# Setup service\n",
        "authenticator = IAMAuthenticator(apikey)\n",
        "lt = LanguageTranslatorV3(version='2018-05-01', authenticator=authenticator)\n",
        "lt.set_service_url(url)"
      ],
      "execution_count": null,
      "outputs": []
    },
    {
      "cell_type": "markdown",
      "metadata": {
        "id": "IFFnIoV-DWoR"
      },
      "source": [
        "## Translation of text"
      ]
    },
    {
      "cell_type": "code",
      "metadata": {
        "colab": {
          "base_uri": "https://localhost:8080/"
        },
        "id": "1ulb9xtj6MEs",
        "outputId": "4a38edab-da7c-4584-e690-7355d47d3d75"
      },
      "source": [
        "sentence=input(\"Enter your text - \")"
      ],
      "execution_count": 85,
      "outputs": [
        {
          "output_type": "stream",
          "text": [
            "Enter your text - I am a boy\n"
          ],
          "name": "stdout"
        }
      ]
    },
    {
      "cell_type": "code",
      "metadata": {
        "id": "als3BNRvDQ2j"
      },
      "source": [
        "translation = lt.translate(text=sentence, model_id='en-de').get_result()"
      ],
      "execution_count": 87,
      "outputs": []
    },
    {
      "cell_type": "code",
      "metadata": {
        "colab": {
          "base_uri": "https://localhost:8080/"
        },
        "id": "yj3o0CdRDfd8",
        "outputId": "3949f699-3113-421a-9a71-6d5e3bea3e8c"
      },
      "source": [
        "translation"
      ],
      "execution_count": 88,
      "outputs": [
        {
          "output_type": "execute_result",
          "data": {
            "text/plain": [
              "{'character_count': 10,\n",
              " 'translations': [{'translation': 'Ich bin ein Junge.'}],\n",
              " 'word_count': 4}"
            ]
          },
          "metadata": {
            "tags": []
          },
          "execution_count": 88
        }
      ]
    },
    {
      "cell_type": "code",
      "metadata": {
        "colab": {
          "base_uri": "https://localhost:8080/",
          "height": 35
        },
        "id": "gvocXcQFDgh1",
        "outputId": "71059d87-a997-4abb-ce2a-3a3823b1c1df"
      },
      "source": [
        "tranlated_sentence = translation['translations'][0]['translation']\n",
        "tranlated_sentence"
      ],
      "execution_count": 100,
      "outputs": [
        {
          "output_type": "execute_result",
          "data": {
            "application/vnd.google.colaboratory.intrinsic+json": {
              "type": "string"
            },
            "text/plain": [
              "'Ich bin ein Junge.'"
            ]
          },
          "metadata": {
            "tags": []
          },
          "execution_count": 100
        }
      ]
    },
    {
      "cell_type": "markdown",
      "metadata": {
        "id": "0xN50ALaEGPn"
      },
      "source": [
        "## Language Identification"
      ]
    },
    {
      "cell_type": "code",
      "metadata": {
        "id": "p9Yt6EJkDjrv"
      },
      "source": [
        "language = lt.identify(sentence).get_result()"
      ],
      "execution_count": 90,
      "outputs": []
    },
    {
      "cell_type": "code",
      "metadata": {
        "colab": {
          "base_uri": "https://localhost:8080/"
        },
        "id": "pA-TacxxEOSl",
        "outputId": "1e12e0e7-a2c9-41fe-fd40-b62842e4d6d1"
      },
      "source": [
        "language"
      ],
      "execution_count": 91,
      "outputs": [
        {
          "output_type": "execute_result",
          "data": {
            "text/plain": [
              "{'languages': [{'confidence': 0.9624360734597261, 'language': 'en'},\n",
              "  {'confidence': 0.014651429139092271, 'language': 'cy'},\n",
              "  {'confidence': 0.003528172600212545, 'language': 'sk'},\n",
              "  {'confidence': 0.002989794377921299, 'language': 'ga'},\n",
              "  {'confidence': 0.0028281733396094797, 'language': 'ca'},\n",
              "  {'confidence': 0.002637927914230147, 'language': 'cs'},\n",
              "  {'confidence': 0.002274287555109157, 'language': 'pt'},\n",
              "  {'confidence': 0.001977729058630324, 'language': 'es'},\n",
              "  {'confidence': 0.001477806582902384, 'language': 'ro'},\n",
              "  {'confidence': 0.0009976413813306446, 'language': 'hu'},\n",
              "  {'confidence': 0.0005806033115722832, 'language': 'pl'},\n",
              "  {'confidence': 0.0005412047310290114, 'language': 'nn'},\n",
              "  {'confidence': 0.0004353327044168118, 'language': 'de'},\n",
              "  {'confidence': 0.0004075243666820216, 'language': 'it'},\n",
              "  {'confidence': 0.00037701252361004543, 'language': 'nb'},\n",
              "  {'confidence': 0.00036909914167226985, 'language': 'da'},\n",
              "  {'confidence': 0.00034469623165867604, 'language': 'hr'},\n",
              "  {'confidence': 0.0003303155392204042, 'language': 'sv'},\n",
              "  {'confidence': 9.82748226026586e-05, 'language': 'vi'},\n",
              "  {'confidence': 8.064563094125975e-05, 'language': 'tl'},\n",
              "  {'confidence': 7.14412421105111e-05, 'language': 'sq'},\n",
              "  {'confidence': 6.620874457042155e-05, 'language': 'ht'},\n",
              "  {'confidence': 6.45208175122228e-05, 'language': 'fr'},\n",
              "  {'confidence': 5.794602079415284e-05, 'language': 'tr'},\n",
              "  {'confidence': 4.56743869526505e-05, 'language': 'ku'},\n",
              "  {'confidence': 3.913769173384434e-05, 'language': 'af'},\n",
              "  {'confidence': 3.723367891596606e-05, 'language': 'mt'},\n",
              "  {'confidence': 2.8623030332519594e-05, 'language': 'zh'},\n",
              "  {'confidence': 2.4638133483659314e-05, 'language': 'so'},\n",
              "  {'confidence': 2.3923031392171416e-05, 'language': 'zh-TW'},\n",
              "  {'confidence': 2.059428351657882e-05, 'language': 'az'},\n",
              "  {'confidence': 1.769116581400583e-05, 'language': 'sl'},\n",
              "  {'confidence': 1.4970472215217184e-05, 'language': 'ms'},\n",
              "  {'confidence': 1.4729471461397355e-05, 'language': 'eo'},\n",
              "  {'confidence': 1.3357167370019014e-05, 'language': 'is'},\n",
              "  {'confidence': 1.0656208971408595e-05, 'language': 'eu'},\n",
              "  {'confidence': 1.0051154060278787e-05, 'language': 'nl'},\n",
              "  {'confidence': 8.380249612635533e-06, 'language': 'lt'},\n",
              "  {'confidence': 7.727445908776402e-06, 'language': 'lv'},\n",
              "  {'confidence': 7.031586988364592e-06, 'language': 'fi'},\n",
              "  {'confidence': 4.759116484799161e-06, 'language': 'ja'},\n",
              "  {'confidence': 4.562707400970632e-06, 'language': 'et'},\n",
              "  {'confidence': 2.235698613671297e-06, 'language': 'hi'},\n",
              "  {'confidence': 2.027043443779395e-06, 'language': 'pa-PK'},\n",
              "  {'confidence': 1.995015050816941e-06, 'language': 'th'},\n",
              "  {'confidence': 1.9070222319509507e-06, 'language': 'sr'},\n",
              "  {'confidence': 1.8636565043523458e-06, 'language': 'ko'},\n",
              "  {'confidence': 1.7694801900309128e-06, 'language': 'my'},\n",
              "  {'confidence': 1.5764555041735755e-06, 'language': 'mr'},\n",
              "  {'confidence': 1.5518281164583668e-06, 'language': 'ru'},\n",
              "  {'confidence': 1.5145853296268405e-06, 'language': 'ar'},\n",
              "  {'confidence': 1.514144529432358e-06, 'language': 'pa'},\n",
              "  {'confidence': 1.3908107013560012e-06, 'language': 'bn'},\n",
              "  {'confidence': 1.3905846731923746e-06, 'language': 'ur'},\n",
              "  {'confidence': 1.3880903861408224e-06, 'language': 'mn'},\n",
              "  {'confidence': 1.3790853581501242e-06, 'language': 'ps'},\n",
              "  {'confidence': 1.3698637851786283e-06, 'language': 'el'},\n",
              "  {'confidence': 1.3541771918553174e-06, 'language': 'km'},\n",
              "  {'confidence': 1.236233588480519e-06, 'language': 'ne'},\n",
              "  {'confidence': 1.1293292165805844e-06, 'language': 'lo'},\n",
              "  {'confidence': 1.0663137455496194e-06, 'language': 'ta'},\n",
              "  {'confidence': 1.044428925646382e-06, 'language': 'te'},\n",
              "  {'confidence': 1.0155586056434123e-06, 'language': 'bg'},\n",
              "  {'confidence': 9.60666560130396e-07, 'language': 'ka'},\n",
              "  {'confidence': 9.249622795958743e-07, 'language': 'ml'},\n",
              "  {'confidence': 9.123903558165168e-07, 'language': 'fa'},\n",
              "  {'confidence': 9.045411425120946e-07, 'language': 'hy'},\n",
              "  {'confidence': 8.964567840184018e-07, 'language': 'kk'},\n",
              "  {'confidence': 8.709471976277904e-07, 'language': 'be'},\n",
              "  {'confidence': 8.233016128623559e-07, 'language': 'he'},\n",
              "  {'confidence': 7.983773552771534e-07, 'language': 'ky'},\n",
              "  {'confidence': 7.691067444218376e-07, 'language': 'si'},\n",
              "  {'confidence': 7.364212059358889e-07, 'language': 'uk'},\n",
              "  {'confidence': 7.335006811010401e-07, 'language': 'gu'},\n",
              "  {'confidence': 6.78137293497237e-07, 'language': 'cv'},\n",
              "  {'confidence': 6.695653230585922e-07, 'language': 'ba'}]}"
            ]
          },
          "metadata": {
            "tags": []
          },
          "execution_count": 91
        }
      ]
    },
    {
      "cell_type": "markdown",
      "metadata": {
        "id": "UJhv_ZEKEfNL"
      },
      "source": [
        "## Text to Speech "
      ]
    },
    {
      "cell_type": "code",
      "metadata": {
        "id": "n7g51nGpEP6j"
      },
      "source": [
        "ttsapikey = '3pwLrXuz_rAlaGbgIYq5p0ul-ntj4kx-DH18lQQ4NA9I'\n",
        "ttsurl = 'https://api.eu-gb.text-to-speech.watson.cloud.ibm.com/instances/033201d6-9a46-4b2d-912f-d02f5dd3b646'"
      ],
      "execution_count": 92,
      "outputs": []
    },
    {
      "cell_type": "code",
      "metadata": {
        "id": "e5Abs38bEthI"
      },
      "source": [
        "from ibm_watson import TextToSpeechV1"
      ],
      "execution_count": 93,
      "outputs": []
    },
    {
      "cell_type": "code",
      "metadata": {
        "id": "AsqaNbkiFMR8"
      },
      "source": [
        "# Authenticate\n",
        "ttsauthenticator = IAMAuthenticator(ttsapikey)\n",
        "tts = TextToSpeechV1(authenticator=ttsauthenticator)\n",
        "tts.set_service_url(ttsurl)"
      ],
      "execution_count": 94,
      "outputs": []
    },
    {
      "cell_type": "code",
      "metadata": {
        "id": "yxgcdfyNFTl0"
      },
      "source": [
        "translation = lt.translate(text=sentence, model_id='en-de').get_result()"
      ],
      "execution_count": 96,
      "outputs": []
    },
    {
      "cell_type": "code",
      "metadata": {
        "colab": {
          "base_uri": "https://localhost:8080/",
          "height": 35
        },
        "id": "tJgFIWBpFWW7",
        "outputId": "d42657a9-dcb0-43bf-9b1c-3aaf71ede5af"
      },
      "source": [
        "tranlated_sentence = translation['translations'][0]['translation']\n",
        "tranlated_sentence"
      ],
      "execution_count": 101,
      "outputs": [
        {
          "output_type": "execute_result",
          "data": {
            "application/vnd.google.colaboratory.intrinsic+json": {
              "type": "string"
            },
            "text/plain": [
              "'Ich bin ein Junge.'"
            ]
          },
          "metadata": {
            "tags": []
          },
          "execution_count": 101
        }
      ]
    },
    {
      "cell_type": "code",
      "metadata": {
        "id": "63DrRE2NFYdR"
      },
      "source": [
        "with open('./boy.mp3', 'wb') as audio_file:\n",
        "    res = tts.synthesize(tranlated_sentence, accept='audio/mp3', voice='de-DE_ErikaV3Voice').get_result()\n",
        "    audio_file.write(res.content)"
      ],
      "execution_count": 102,
      "outputs": []
    },
    {
      "cell_type": "code",
      "metadata": {
        "colab": {
          "base_uri": "https://localhost:8080/",
          "height": 17
        },
        "id": "rBwllx7MF_iu",
        "outputId": "89f2af7d-8de8-4f4c-bd0f-6f7e16c10890"
      },
      "source": [
        "from google.colab import files\n",
        "files.download('boy.mp3')"
      ],
      "execution_count": 103,
      "outputs": [
        {
          "output_type": "display_data",
          "data": {
            "application/javascript": [
              "\n",
              "    async function download(id, filename, size) {\n",
              "      if (!google.colab.kernel.accessAllowed) {\n",
              "        return;\n",
              "      }\n",
              "      const div = document.createElement('div');\n",
              "      const label = document.createElement('label');\n",
              "      label.textContent = `Downloading \"${filename}\": `;\n",
              "      div.appendChild(label);\n",
              "      const progress = document.createElement('progress');\n",
              "      progress.max = size;\n",
              "      div.appendChild(progress);\n",
              "      document.body.appendChild(div);\n",
              "\n",
              "      const buffers = [];\n",
              "      let downloaded = 0;\n",
              "\n",
              "      const channel = await google.colab.kernel.comms.open(id);\n",
              "      // Send a message to notify the kernel that we're ready.\n",
              "      channel.send({})\n",
              "\n",
              "      for await (const message of channel.messages) {\n",
              "        // Send a message to notify the kernel that we're ready.\n",
              "        channel.send({})\n",
              "        if (message.buffers) {\n",
              "          for (const buffer of message.buffers) {\n",
              "            buffers.push(buffer);\n",
              "            downloaded += buffer.byteLength;\n",
              "            progress.value = downloaded;\n",
              "          }\n",
              "        }\n",
              "      }\n",
              "      const blob = new Blob(buffers, {type: 'application/binary'});\n",
              "      const a = document.createElement('a');\n",
              "      a.href = window.URL.createObjectURL(blob);\n",
              "      a.download = filename;\n",
              "      div.appendChild(a);\n",
              "      a.click();\n",
              "      div.remove();\n",
              "    }\n",
              "  "
            ],
            "text/plain": [
              "<IPython.core.display.Javascript object>"
            ]
          },
          "metadata": {
            "tags": []
          }
        },
        {
          "output_type": "display_data",
          "data": {
            "application/javascript": [
              "download(\"download_c164dc7c-8036-42a2-8944-68ff4263f3de\", \"boy.mp3\", 11993)"
            ],
            "text/plain": [
              "<IPython.core.display.Javascript object>"
            ]
          },
          "metadata": {
            "tags": []
          }
        }
      ]
    },
    {
      "cell_type": "code",
      "metadata": {
        "id": "gKkBtqhg0DQW"
      },
      "source": [
        ""
      ],
      "execution_count": null,
      "outputs": []
    }
  ]
}